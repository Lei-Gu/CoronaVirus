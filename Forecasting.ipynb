{
 "cells": [
  {
   "cell_type": "code",
   "execution_count": 1,
   "metadata": {},
   "outputs": [],
   "source": [
    "import pandas as pd\n",
    "import numpy as np\n",
    "from datetime import datetime,timedelta\n",
    "from sklearn.metrics import mean_squared_error\n",
    "from scipy.optimize import curve_fit\n",
    "from scipy.optimize import fsolve\n",
    "import matplotlib.pyplot as plt\n",
    "%matplotlib inline"
   ]
  },
  {
   "cell_type": "code",
   "execution_count": 2,
   "metadata": {},
   "outputs": [
    {
     "data": {
      "text/html": [
       "<div>\n",
       "<style scoped>\n",
       "    .dataframe tbody tr th:only-of-type {\n",
       "        vertical-align: middle;\n",
       "    }\n",
       "\n",
       "    .dataframe tbody tr th {\n",
       "        vertical-align: top;\n",
       "    }\n",
       "\n",
       "    .dataframe thead th {\n",
       "        text-align: right;\n",
       "    }\n",
       "</style>\n",
       "<table border=\"1\" class=\"dataframe\">\n",
       "  <thead>\n",
       "    <tr style=\"text-align: right;\">\n",
       "      <th></th>\n",
       "      <th>country_region</th>\n",
       "      <th>fips</th>\n",
       "      <th>latitude</th>\n",
       "      <th>longitude</th>\n",
       "      <th>date</th>\n",
       "      <th>cases</th>\n",
       "      <th>death</th>\n",
       "      <th>source</th>\n",
       "      <th>update_date</th>\n",
       "    </tr>\n",
       "  </thead>\n",
       "  <tbody>\n",
       "    <tr>\n",
       "      <td>0</td>\n",
       "      <td>US</td>\n",
       "      <td>0</td>\n",
       "      <td>37.0902</td>\n",
       "      <td>-95.7129</td>\n",
       "      <td>1/21/2020</td>\n",
       "      <td>1</td>\n",
       "      <td>0</td>\n",
       "      <td>https://github.com/nytimes/covid-19-data</td>\n",
       "      <td>3/28/2020</td>\n",
       "    </tr>\n",
       "    <tr>\n",
       "      <td>1</td>\n",
       "      <td>US</td>\n",
       "      <td>0</td>\n",
       "      <td>37.0902</td>\n",
       "      <td>-95.7129</td>\n",
       "      <td>1/22/2020</td>\n",
       "      <td>1</td>\n",
       "      <td>0</td>\n",
       "      <td>https://github.com/nytimes/covid-19-data</td>\n",
       "      <td>3/28/2020</td>\n",
       "    </tr>\n",
       "    <tr>\n",
       "      <td>2</td>\n",
       "      <td>US</td>\n",
       "      <td>0</td>\n",
       "      <td>37.0902</td>\n",
       "      <td>-95.7129</td>\n",
       "      <td>1/23/2020</td>\n",
       "      <td>1</td>\n",
       "      <td>0</td>\n",
       "      <td>https://github.com/nytimes/covid-19-data</td>\n",
       "      <td>3/28/2020</td>\n",
       "    </tr>\n",
       "    <tr>\n",
       "      <td>3</td>\n",
       "      <td>US</td>\n",
       "      <td>0</td>\n",
       "      <td>37.0902</td>\n",
       "      <td>-95.7129</td>\n",
       "      <td>1/24/2020</td>\n",
       "      <td>2</td>\n",
       "      <td>0</td>\n",
       "      <td>https://github.com/nytimes/covid-19-data</td>\n",
       "      <td>3/28/2020</td>\n",
       "    </tr>\n",
       "    <tr>\n",
       "      <td>4</td>\n",
       "      <td>US</td>\n",
       "      <td>0</td>\n",
       "      <td>37.0902</td>\n",
       "      <td>-95.7129</td>\n",
       "      <td>1/25/2020</td>\n",
       "      <td>3</td>\n",
       "      <td>0</td>\n",
       "      <td>https://github.com/nytimes/covid-19-data</td>\n",
       "      <td>3/28/2020</td>\n",
       "    </tr>\n",
       "  </tbody>\n",
       "</table>\n",
       "</div>"
      ],
      "text/plain": [
       "  country_region  fips  latitude  longitude       date  cases  death  \\\n",
       "0             US     0   37.0902   -95.7129  1/21/2020      1      0   \n",
       "1             US     0   37.0902   -95.7129  1/22/2020      1      0   \n",
       "2             US     0   37.0902   -95.7129  1/23/2020      1      0   \n",
       "3             US     0   37.0902   -95.7129  1/24/2020      2      0   \n",
       "4             US     0   37.0902   -95.7129  1/25/2020      3      0   \n",
       "\n",
       "                                     source update_date  \n",
       "0  https://github.com/nytimes/covid-19-data   3/28/2020  \n",
       "1  https://github.com/nytimes/covid-19-data   3/28/2020  \n",
       "2  https://github.com/nytimes/covid-19-data   3/28/2020  \n",
       "3  https://github.com/nytimes/covid-19-data   3/28/2020  \n",
       "4  https://github.com/nytimes/covid-19-data   3/28/2020  "
      ]
     },
     "execution_count": 2,
     "metadata": {},
     "output_type": "execute_result"
    }
   ],
   "source": [
    "file = \"./Datasets/forecasting.csv\"\n",
    "df = pd.read_csv(file)\n",
    "df.head()"
   ]
  },
  {
   "cell_type": "code",
   "execution_count": 3,
   "metadata": {},
   "outputs": [
    {
     "data": {
      "text/html": [
       "<div>\n",
       "<style scoped>\n",
       "    .dataframe tbody tr th:only-of-type {\n",
       "        vertical-align: middle;\n",
       "    }\n",
       "\n",
       "    .dataframe tbody tr th {\n",
       "        vertical-align: top;\n",
       "    }\n",
       "\n",
       "    .dataframe thead th {\n",
       "        text-align: right;\n",
       "    }\n",
       "</style>\n",
       "<table border=\"1\" class=\"dataframe\">\n",
       "  <thead>\n",
       "    <tr style=\"text-align: right;\">\n",
       "      <th></th>\n",
       "      <th>country_region</th>\n",
       "      <th>fips</th>\n",
       "      <th>latitude</th>\n",
       "      <th>longitude</th>\n",
       "      <th>date</th>\n",
       "      <th>cases</th>\n",
       "      <th>death</th>\n",
       "      <th>source</th>\n",
       "      <th>update_date</th>\n",
       "    </tr>\n",
       "  </thead>\n",
       "  <tbody>\n",
       "    <tr>\n",
       "      <td>0</td>\n",
       "      <td>US</td>\n",
       "      <td>0</td>\n",
       "      <td>37.0902</td>\n",
       "      <td>-95.7129</td>\n",
       "      <td>1/21/2020</td>\n",
       "      <td>1</td>\n",
       "      <td>0</td>\n",
       "      <td>https://github.com/nytimes/covid-19-data</td>\n",
       "      <td>3/28/2020</td>\n",
       "    </tr>\n",
       "    <tr>\n",
       "      <td>1</td>\n",
       "      <td>US</td>\n",
       "      <td>0</td>\n",
       "      <td>37.0902</td>\n",
       "      <td>-95.7129</td>\n",
       "      <td>1/22/2020</td>\n",
       "      <td>1</td>\n",
       "      <td>0</td>\n",
       "      <td>https://github.com/nytimes/covid-19-data</td>\n",
       "      <td>3/28/2020</td>\n",
       "    </tr>\n",
       "    <tr>\n",
       "      <td>2</td>\n",
       "      <td>US</td>\n",
       "      <td>0</td>\n",
       "      <td>37.0902</td>\n",
       "      <td>-95.7129</td>\n",
       "      <td>1/23/2020</td>\n",
       "      <td>1</td>\n",
       "      <td>0</td>\n",
       "      <td>https://github.com/nytimes/covid-19-data</td>\n",
       "      <td>3/28/2020</td>\n",
       "    </tr>\n",
       "    <tr>\n",
       "      <td>3</td>\n",
       "      <td>US</td>\n",
       "      <td>0</td>\n",
       "      <td>37.0902</td>\n",
       "      <td>-95.7129</td>\n",
       "      <td>1/24/2020</td>\n",
       "      <td>2</td>\n",
       "      <td>0</td>\n",
       "      <td>https://github.com/nytimes/covid-19-data</td>\n",
       "      <td>3/28/2020</td>\n",
       "    </tr>\n",
       "    <tr>\n",
       "      <td>4</td>\n",
       "      <td>US</td>\n",
       "      <td>0</td>\n",
       "      <td>37.0902</td>\n",
       "      <td>-95.7129</td>\n",
       "      <td>1/25/2020</td>\n",
       "      <td>3</td>\n",
       "      <td>0</td>\n",
       "      <td>https://github.com/nytimes/covid-19-data</td>\n",
       "      <td>3/28/2020</td>\n",
       "    </tr>\n",
       "    <tr>\n",
       "      <td>...</td>\n",
       "      <td>...</td>\n",
       "      <td>...</td>\n",
       "      <td>...</td>\n",
       "      <td>...</td>\n",
       "      <td>...</td>\n",
       "      <td>...</td>\n",
       "      <td>...</td>\n",
       "      <td>...</td>\n",
       "      <td>...</td>\n",
       "    </tr>\n",
       "    <tr>\n",
       "      <td>61</td>\n",
       "      <td>US</td>\n",
       "      <td>0</td>\n",
       "      <td>37.0902</td>\n",
       "      <td>-95.7129</td>\n",
       "      <td>3/22/2020</td>\n",
       "      <td>33061</td>\n",
       "      <td>436</td>\n",
       "      <td>https://github.com/nytimes/covid-19-data</td>\n",
       "      <td>3/28/2020</td>\n",
       "    </tr>\n",
       "    <tr>\n",
       "      <td>62</td>\n",
       "      <td>US</td>\n",
       "      <td>0</td>\n",
       "      <td>37.0902</td>\n",
       "      <td>-95.7129</td>\n",
       "      <td>3/23/2020</td>\n",
       "      <td>43499</td>\n",
       "      <td>546</td>\n",
       "      <td>https://github.com/nytimes/covid-19-data</td>\n",
       "      <td>3/28/2020</td>\n",
       "    </tr>\n",
       "    <tr>\n",
       "      <td>63</td>\n",
       "      <td>US</td>\n",
       "      <td>0</td>\n",
       "      <td>37.0902</td>\n",
       "      <td>-95.7129</td>\n",
       "      <td>3/24/2020</td>\n",
       "      <td>54168</td>\n",
       "      <td>746</td>\n",
       "      <td>https://github.com/nytimes/covid-19-data</td>\n",
       "      <td>3/28/2020</td>\n",
       "    </tr>\n",
       "    <tr>\n",
       "      <td>64</td>\n",
       "      <td>US</td>\n",
       "      <td>0</td>\n",
       "      <td>37.0902</td>\n",
       "      <td>-95.7129</td>\n",
       "      <td>3/25/2020</td>\n",
       "      <td>68775</td>\n",
       "      <td>1000</td>\n",
       "      <td>https://github.com/nytimes/covid-19-data</td>\n",
       "      <td>3/28/2020</td>\n",
       "    </tr>\n",
       "    <tr>\n",
       "      <td>65</td>\n",
       "      <td>US</td>\n",
       "      <td>0</td>\n",
       "      <td>37.0902</td>\n",
       "      <td>-95.7129</td>\n",
       "      <td>3/26/2020</td>\n",
       "      <td>85618</td>\n",
       "      <td>1322</td>\n",
       "      <td>https://github.com/nytimes/covid-19-data</td>\n",
       "      <td>3/28/2020</td>\n",
       "    </tr>\n",
       "  </tbody>\n",
       "</table>\n",
       "<p>66 rows × 9 columns</p>\n",
       "</div>"
      ],
      "text/plain": [
       "   country_region  fips  latitude  longitude       date  cases  death  \\\n",
       "0              US     0   37.0902   -95.7129  1/21/2020      1      0   \n",
       "1              US     0   37.0902   -95.7129  1/22/2020      1      0   \n",
       "2              US     0   37.0902   -95.7129  1/23/2020      1      0   \n",
       "3              US     0   37.0902   -95.7129  1/24/2020      2      0   \n",
       "4              US     0   37.0902   -95.7129  1/25/2020      3      0   \n",
       "..            ...   ...       ...        ...        ...    ...    ...   \n",
       "61             US     0   37.0902   -95.7129  3/22/2020  33061    436   \n",
       "62             US     0   37.0902   -95.7129  3/23/2020  43499    546   \n",
       "63             US     0   37.0902   -95.7129  3/24/2020  54168    746   \n",
       "64             US     0   37.0902   -95.7129  3/25/2020  68775   1000   \n",
       "65             US     0   37.0902   -95.7129  3/26/2020  85618   1322   \n",
       "\n",
       "                                      source update_date  \n",
       "0   https://github.com/nytimes/covid-19-data   3/28/2020  \n",
       "1   https://github.com/nytimes/covid-19-data   3/28/2020  \n",
       "2   https://github.com/nytimes/covid-19-data   3/28/2020  \n",
       "3   https://github.com/nytimes/covid-19-data   3/28/2020  \n",
       "4   https://github.com/nytimes/covid-19-data   3/28/2020  \n",
       "..                                       ...         ...  \n",
       "61  https://github.com/nytimes/covid-19-data   3/28/2020  \n",
       "62  https://github.com/nytimes/covid-19-data   3/28/2020  \n",
       "63  https://github.com/nytimes/covid-19-data   3/28/2020  \n",
       "64  https://github.com/nytimes/covid-19-data   3/28/2020  \n",
       "65  https://github.com/nytimes/covid-19-data   3/28/2020  \n",
       "\n",
       "[66 rows x 9 columns]"
      ]
     },
     "execution_count": 3,
     "metadata": {},
     "output_type": "execute_result"
    }
   ],
   "source": [
    "df = df.loc[(df[\"country_region\"] == \"US\")]\n",
    "df"
   ]
  },
  {
   "cell_type": "code",
   "execution_count": 5,
   "metadata": {},
   "outputs": [
    {
     "data": {
      "text/html": [
       "<div>\n",
       "<style scoped>\n",
       "    .dataframe tbody tr th:only-of-type {\n",
       "        vertical-align: middle;\n",
       "    }\n",
       "\n",
       "    .dataframe tbody tr th {\n",
       "        vertical-align: top;\n",
       "    }\n",
       "\n",
       "    .dataframe thead th {\n",
       "        text-align: right;\n",
       "    }\n",
       "</style>\n",
       "<table border=\"1\" class=\"dataframe\">\n",
       "  <thead>\n",
       "    <tr style=\"text-align: right;\">\n",
       "      <th></th>\n",
       "      <th>date</th>\n",
       "      <th>cases</th>\n",
       "    </tr>\n",
       "  </thead>\n",
       "  <tbody>\n",
       "    <tr>\n",
       "      <td>0</td>\n",
       "      <td>1/21/2020</td>\n",
       "      <td>1</td>\n",
       "    </tr>\n",
       "    <tr>\n",
       "      <td>1</td>\n",
       "      <td>1/22/2020</td>\n",
       "      <td>1</td>\n",
       "    </tr>\n",
       "    <tr>\n",
       "      <td>2</td>\n",
       "      <td>1/23/2020</td>\n",
       "      <td>1</td>\n",
       "    </tr>\n",
       "    <tr>\n",
       "      <td>3</td>\n",
       "      <td>1/24/2020</td>\n",
       "      <td>2</td>\n",
       "    </tr>\n",
       "    <tr>\n",
       "      <td>4</td>\n",
       "      <td>1/25/2020</td>\n",
       "      <td>3</td>\n",
       "    </tr>\n",
       "    <tr>\n",
       "      <td>...</td>\n",
       "      <td>...</td>\n",
       "      <td>...</td>\n",
       "    </tr>\n",
       "    <tr>\n",
       "      <td>61</td>\n",
       "      <td>3/22/2020</td>\n",
       "      <td>33061</td>\n",
       "    </tr>\n",
       "    <tr>\n",
       "      <td>62</td>\n",
       "      <td>3/23/2020</td>\n",
       "      <td>43499</td>\n",
       "    </tr>\n",
       "    <tr>\n",
       "      <td>63</td>\n",
       "      <td>3/24/2020</td>\n",
       "      <td>54168</td>\n",
       "    </tr>\n",
       "    <tr>\n",
       "      <td>64</td>\n",
       "      <td>3/25/2020</td>\n",
       "      <td>68775</td>\n",
       "    </tr>\n",
       "    <tr>\n",
       "      <td>65</td>\n",
       "      <td>3/26/2020</td>\n",
       "      <td>85618</td>\n",
       "    </tr>\n",
       "  </tbody>\n",
       "</table>\n",
       "<p>66 rows × 2 columns</p>\n",
       "</div>"
      ],
      "text/plain": [
       "         date  cases\n",
       "0   1/21/2020      1\n",
       "1   1/22/2020      1\n",
       "2   1/23/2020      1\n",
       "3   1/24/2020      2\n",
       "4   1/25/2020      3\n",
       "..        ...    ...\n",
       "61  3/22/2020  33061\n",
       "62  3/23/2020  43499\n",
       "63  3/24/2020  54168\n",
       "64  3/25/2020  68775\n",
       "65  3/26/2020  85618\n",
       "\n",
       "[66 rows x 2 columns]"
      ]
     },
     "execution_count": 5,
     "metadata": {},
     "output_type": "execute_result"
    }
   ],
   "source": [
    "df = df.loc[:,['date','cases']]\n",
    "df"
   ]
  },
  {
   "cell_type": "code",
   "execution_count": 6,
   "metadata": {},
   "outputs": [],
   "source": [
    "FMT = '%m/%d/%Y'\n",
    "date = df['date']\n",
    "df['date'] = date.map(lambda x : (datetime.strptime(x, FMT) - datetime.strptime(\"01/01/2020\", FMT)).days)"
   ]
  },
  {
   "cell_type": "code",
   "execution_count": 7,
   "metadata": {},
   "outputs": [
    {
     "data": {
      "text/html": [
       "<div>\n",
       "<style scoped>\n",
       "    .dataframe tbody tr th:only-of-type {\n",
       "        vertical-align: middle;\n",
       "    }\n",
       "\n",
       "    .dataframe tbody tr th {\n",
       "        vertical-align: top;\n",
       "    }\n",
       "\n",
       "    .dataframe thead th {\n",
       "        text-align: right;\n",
       "    }\n",
       "</style>\n",
       "<table border=\"1\" class=\"dataframe\">\n",
       "  <thead>\n",
       "    <tr style=\"text-align: right;\">\n",
       "      <th></th>\n",
       "      <th>date</th>\n",
       "      <th>cases</th>\n",
       "    </tr>\n",
       "  </thead>\n",
       "  <tbody>\n",
       "    <tr>\n",
       "      <td>0</td>\n",
       "      <td>20</td>\n",
       "      <td>1</td>\n",
       "    </tr>\n",
       "    <tr>\n",
       "      <td>1</td>\n",
       "      <td>21</td>\n",
       "      <td>1</td>\n",
       "    </tr>\n",
       "    <tr>\n",
       "      <td>2</td>\n",
       "      <td>22</td>\n",
       "      <td>1</td>\n",
       "    </tr>\n",
       "    <tr>\n",
       "      <td>3</td>\n",
       "      <td>23</td>\n",
       "      <td>2</td>\n",
       "    </tr>\n",
       "    <tr>\n",
       "      <td>4</td>\n",
       "      <td>24</td>\n",
       "      <td>3</td>\n",
       "    </tr>\n",
       "    <tr>\n",
       "      <td>...</td>\n",
       "      <td>...</td>\n",
       "      <td>...</td>\n",
       "    </tr>\n",
       "    <tr>\n",
       "      <td>61</td>\n",
       "      <td>81</td>\n",
       "      <td>33061</td>\n",
       "    </tr>\n",
       "    <tr>\n",
       "      <td>62</td>\n",
       "      <td>82</td>\n",
       "      <td>43499</td>\n",
       "    </tr>\n",
       "    <tr>\n",
       "      <td>63</td>\n",
       "      <td>83</td>\n",
       "      <td>54168</td>\n",
       "    </tr>\n",
       "    <tr>\n",
       "      <td>64</td>\n",
       "      <td>84</td>\n",
       "      <td>68775</td>\n",
       "    </tr>\n",
       "    <tr>\n",
       "      <td>65</td>\n",
       "      <td>85</td>\n",
       "      <td>85618</td>\n",
       "    </tr>\n",
       "  </tbody>\n",
       "</table>\n",
       "<p>66 rows × 2 columns</p>\n",
       "</div>"
      ],
      "text/plain": [
       "    date  cases\n",
       "0     20      1\n",
       "1     21      1\n",
       "2     22      1\n",
       "3     23      2\n",
       "4     24      3\n",
       "..   ...    ...\n",
       "61    81  33061\n",
       "62    82  43499\n",
       "63    83  54168\n",
       "64    84  68775\n",
       "65    85  85618\n",
       "\n",
       "[66 rows x 2 columns]"
      ]
     },
     "execution_count": 7,
     "metadata": {},
     "output_type": "execute_result"
    }
   ],
   "source": [
    "df"
   ]
  },
  {
   "cell_type": "markdown",
   "metadata": {},
   "source": [
    "The logistic model\n",
    "The logistic model has been widely used to describe the growth of a population. An infection can be described as the growth of the population of a pathogen agent, so a logistic model seems reasonable.\n",
    "This formula is very known among data scientists because it’s used in the logistic regression classifier and as an activation function of neural networks.\n",
    "The most generic expression of a logistic function is:\n",
    "\n",
    "In this formula, we have the variable x that is the time and three parameters: a,b,c.\n",
    "a refers to the infection speed\n",
    "b is the day with the maximum infections occurred\n",
    "c is the total number of recorded infected people at the infection’s end\n",
    "\n",
    "At high time values, the number of infected people gets closer and closer to c and that’s the point at which we can say that the infection has ended. This function has also an inflection point at b, that is the point at which the first derivative starts to decrease (i.e. the peak after which the infection starts to become less aggressive and decreases)."
   ]
  },
  {
   "cell_type": "code",
   "execution_count": 8,
   "metadata": {},
   "outputs": [],
   "source": [
    "def logistic_model(x,a,b,c):\n",
    "    return c/(1+np.exp(-(x-b)/a))"
   ]
  },
  {
   "cell_type": "code",
   "execution_count": 9,
   "metadata": {},
   "outputs": [
    {
     "name": "stdout",
     "output_type": "stream",
     "text": [
      "(array([2.90550190e+00, 8.55955849e+01, 1.89646113e+05]), array([[1.41520508e-03, 6.86094412e-03, 2.44981485e+02],\n",
      "       [6.86094412e-03, 3.69683706e-02, 1.34637449e+03],\n",
      "       [2.44981485e+02, 1.34637449e+03, 4.93879482e+07]]))\n"
     ]
    }
   ],
   "source": [
    "x = list(df.iloc[:,0])\n",
    "y = list(df.iloc[:,1])\n",
    "fit = curve_fit(logistic_model,x,y,p0=[20,1,100000])\n",
    "print(fit)"
   ]
  },
  {
   "cell_type": "markdown",
   "metadata": {},
   "source": [
    "Here are the values:\n",
    "a: 2.91\n",
    "b: 85.6\n",
    "c: 189646\n",
    "The function returns the covariance matrix too, whose diagonal values are the variances of the parameters. Taking their square root we can calculate the standard errors."
   ]
  },
  {
   "cell_type": "code",
   "execution_count": 10,
   "metadata": {},
   "outputs": [
    {
     "name": "stdout",
     "output_type": "stream",
     "text": [
      "[0.03761921158414936, 0.19227160627916173, 7027.655951375035]\n"
     ]
    }
   ],
   "source": [
    "errors = [np.sqrt(fit[1][i][i]) for i in [0,1,2]]\n",
    "print(errors)"
   ]
  },
  {
   "cell_type": "markdown",
   "metadata": {},
   "source": [
    "Standard error of a: 0.037\n",
    "Standard error of b: 0.192\n",
    "Standard error of c: 7027.66\n",
    "These numbers give us many useful insights.\n",
    "The expected number of infected people at infection end is 189646+/- 7027.66.\n",
    "The infection peak is expected around.\n"
   ]
  },
  {
   "cell_type": "code",
   "execution_count": 19,
   "metadata": {},
   "outputs": [],
   "source": [
    "a = 2.91\n",
    "b = 85.6\n",
    "c = 189646"
   ]
  },
  {
   "cell_type": "markdown",
   "metadata": {},
   "source": [
    "The expected infection end can be calculated as that particular day at which the cumulative infected people count is equal to the c parameter rounded to the nearest integer.\n",
    "\n",
    "We can use the fsolve function of scipy to numerically find the root of the equation that defines the infection end day."
   ]
  },
  {
   "cell_type": "code",
   "execution_count": 15,
   "metadata": {},
   "outputs": [
    {
     "name": "stdout",
     "output_type": "stream",
     "text": [
      "192\n"
     ]
    }
   ],
   "source": [
    "sol = int(fsolve(lambda x : logistic_model(x,a,b,c) - int(c),b))\n",
    "print(sol)"
   ]
  },
  {
   "cell_type": "markdown",
   "metadata": {},
   "source": [
    "## The infection end day: It’s on July 11, 2020."
   ]
  },
  {
   "cell_type": "markdown",
   "metadata": {},
   "source": [
    "## Exponential model\n",
    "While the logistic model describes ain infection growth that is going to stop in the future, The exponential model describes an unstoppable infection growth. For example, if a patient infects 2 patients per day, after 1 day we’ll have 2 infections, 4 after 2 days, 8 after 3 and so on.\n",
    "The most generic exponential function is:\n",
    "\n",
    "The variable x is the time and we still have the parameters a, b, c. The meaning, however, is different from the logistic function parameters’.\n",
    "Let’s define the function in Python and let’s perform the same curve fitting procedure used for logistic growth."
   ]
  },
  {
   "cell_type": "code",
   "execution_count": 25,
   "metadata": {},
   "outputs": [
    {
     "name": "stdout",
     "output_type": "stream",
     "text": [
      "(array([ 6.76457994,  0.26158546, 48.76896945]), array([[-5.58754879e+12, -1.01744635e+03, -3.15767149e+12],\n",
      "       [-1.01744680e+03,  1.14000404e-05, -5.74984534e+02],\n",
      "       [-3.15767149e+12, -5.74984282e+02, -1.78448361e+12]]))\n"
     ]
    }
   ],
   "source": [
    "def exponential_model(x,a,b,c):\n",
    "    return a*np.exp(b*(x-c))\n",
    "exp_fit = curve_fit(exponential_model,x,y,p0=[1,1,7])\n",
    "print(exp_fit)"
   ]
  },
  {
   "cell_type": "code",
   "execution_count": 26,
   "metadata": {},
   "outputs": [
    {
     "data": {
      "image/png": "[encoded data removed]",
      "text/plain": [
       "<Figure size 504x504 with 1 Axes>"
      ]
     },
     "metadata": {
      "needs_background": "light"
     },
     "output_type": "display_data"
    }
   ],
   "source": [
    "pred_x = list(range(max(x),sol))\n",
    "plt.rcParams['figure.figsize'] = [7, 7]\n",
    "plt.rc('font', size=14)\n",
    "# Real data\n",
    "plt.scatter(x,y,label=\"Real data\",color=\"red\")\n",
    "# Predicted logistic curve\n",
    "plt.plot(x+pred_x, [logistic_model(i,fit[0][0],fit[0][1],fit[0][2]) for i in x+pred_x], label=\"Logistic model\" )\n",
    "# Predicted exponential curve\n",
    "plt.plot(x+pred_x, [exponential_model(i,exp_fit[0][0],exp_fit[0][1],exp_fit[0][2]) for i in x+pred_x], label=\"Exponential model\" )\n",
    "plt.legend()\n",
    "plt.xlabel(\"Days since 1 January 2020\")\n",
    "plt.ylabel(\"Total number of infected people\")\n",
    "plt.ylim((min(y)*0.9,c*1.1))\n",
    "plt.show()"
   ]
  },
  {
   "cell_type": "markdown",
   "metadata": {},
   "source": [
    "Both theoretical curves seem to approximate the experimental trend quite well. Which one does it better? Let’s take a look at the residuals."
   ]
  },
  {
   "cell_type": "markdown",
   "metadata": {},
   "source": [
    "## Analysis of residuals\n",
    "Residuals are the differences between each experimental point and the corresponding theoretical point. We can analyze the residuals of both models in order to verify the best fitting curve. In a first approximation, the lower Mean Squared Error between theoretical and experimental data, the better the fit."
   ]
  },
  {
   "cell_type": "code",
   "execution_count": 27,
   "metadata": {},
   "outputs": [
    {
     "name": "stdout",
     "output_type": "stream",
     "text": [
      "94248.16749581014\n",
      "757001.4076072286\n"
     ]
    }
   ],
   "source": [
    "y_pred_logistic = [logistic_model(i,fit[0][0],fit[0][1],fit[0][2]) for i in x]\n",
    "y_pred_exp =  [exponential_model(i,exp_fit[0][0], exp_fit[0][1], exp_fit[0][2]) for i in x]\n",
    "mean_squared_error(y,y_pred_logistic)\n",
    "mean_squared_error(y,y_pred_exp)\n",
    "print(mean_squared_error(y,y_pred_logistic))\n",
    "print(mean_squared_error(y,y_pred_exp))"
   ]
  },
  {
   "cell_type": "markdown",
   "metadata": {},
   "source": [
    "## Which is the right model?\n",
    "Residuals analysis seems to point toward the logistic model. It’s very likely because the infection should end someday in the future; even if everybody will be infected, they’ll develop the proper immunity defense to avoid a second infection. That’s right as long as the virus doesn’t mutate too much (as, for example, influenza virus).\n",
    "But there’s something that still worries me. I’ve been fitting the logistic curve every day since the beginning of the infection and every day I got different parameter values. The number of infected people at the end increases, the maximum infection day is often the current day or the next day (which is compatible with the standard error of 1 day on this parameter). That’s why I think that, although the logistic model seems to be the most reasonable one, the shape of the curve will probably change due to exogenous effects like new infection hotspots, government actions to bind the infection and so on.\n",
    "That’s why I think that the predictions of this model will start to become useful only within a few weeks, reasonably after the infection peak."
   ]
  },
  {
   "cell_type": "code",
   "execution_count": null,
   "metadata": {},
   "outputs": [],
   "source": []
  }
 ],
 "metadata": {
  "kernelspec": {
   "display_name": "Python 3",
   "language": "python",
   "name": "python3"
  },
  "language_info": {
   "codemirror_mode": {
    "name": "ipython",
    "version": 3
   },
   "file_extension": ".py",
   "mimetype": "text/x-python",
   "name": "python",
   "nbconvert_exporter": "python",
   "pygments_lexer": "ipython3",
   "version": "3.7.4"
  }
 },
 "nbformat": 4,
 "nbformat_minor": 4
}
